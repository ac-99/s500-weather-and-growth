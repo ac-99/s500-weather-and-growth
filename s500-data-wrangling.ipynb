{
 "cells": [
  {
   "cell_type": "markdown",
   "id": "7cf88972",
   "metadata": {
    "papermill": {
     "duration": 0.027599,
     "end_time": "2022-05-22T21:51:10.242606",
     "exception": false,
     "start_time": "2022-05-22T21:51:10.215007",
     "status": "completed"
    },
    "tags": []
   },
   "source": [
    "# S500 Project: Stations Data\n",
    "\n",
    "Data wrangling of NOAA data and World Bank data using BigQuery associated with the s500-project on ac-99's github. Reading in NOAA & WDI data; cleaning; merging.\n",
    "\n",
    "The output is the weather_GDP dataframe.\n",
    "\n",
    "Author: Anubhav Chowdhury, University of Cambridge (MPhil in Economic Research), https://github.com/ac-99\n",
    "\n",
    "Date: May 2022\n",
    "\n",
    "Project abstract: This essay exploits year-to-year temperature and precipitation variation to estimate the effects of weather on economic growth using fixed effects methods, a la Dell (2012). This essay hypothesises, based on a large volume of micro-level evidence, that agricultural effects mediate the relationship between weather and economic growth. This problem is analysed using fixed effects regression methods, using dynamic measures for poverty and agriculture, rather than the static measures used by Dell (2021). This analysis is based on a US National Oceanic and Atmospheric Administration (NOAA) dataset with over 90 million observations from over 15,000 weather stations and World Bank Development Indicators between 1992 and 2017."
   ]
  },
  {
   "cell_type": "code",
   "execution_count": 1,
   "id": "dcb6b997",
   "metadata": {
    "execution": {
     "iopub.execute_input": "2022-05-22T21:51:10.301691Z",
     "iopub.status.busy": "2022-05-22T21:51:10.300408Z",
     "iopub.status.idle": "2022-05-22T21:51:25.926439Z",
     "shell.execute_reply": "2022-05-22T21:51:25.925180Z",
     "shell.execute_reply.started": "2022-05-22T21:02:47.753560Z"
    },
    "papermill": {
     "duration": 15.655792,
     "end_time": "2022-05-22T21:51:25.926651",
     "exception": false,
     "start_time": "2022-05-22T21:51:10.270859",
     "status": "completed"
    },
    "tags": []
   },
   "outputs": [
    {
     "name": "stdout",
     "output_type": "stream",
     "text": [
      "/kaggle/input/fipscountrycodes/country-codes-fips.csv\n",
      "/kaggle/input/wdi-data-csv-format/WDIData.csv\n",
      "/kaggle/input/noaa-csv/noaa.csv\n",
      "/kaggle/input/noaastationslatlon/stations.csv\n",
      "Collecting linearmodels\n",
      "  Downloading linearmodels-4.25-cp37-cp37m-manylinux_2_17_x86_64.manylinux2014_x86_64.whl (1.5 MB)\n",
      "Collecting formulaic\n",
      "  Downloading formulaic-0.3.4-py3-none-any.whl (68 kB)\n",
      "Collecting property-cached>=1.6.3\n",
      "  Downloading property_cached-1.6.4-py2.py3-none-any.whl (7.8 kB)\n",
      "Requirement already satisfied: pandas>=0.24 in /opt/conda/lib/python3.7/site-packages (from linearmodels) (1.3.5)\n",
      "Requirement already satisfied: Cython>=0.29.21 in /opt/conda/lib/python3.7/site-packages (from linearmodels) (0.29.28)\n",
      "Requirement already satisfied: mypy-extensions>=0.4 in /opt/conda/lib/python3.7/site-packages (from linearmodels) (0.4.3)\n",
      "Requirement already satisfied: patsy in /opt/conda/lib/python3.7/site-packages (from linearmodels) (0.5.2)\n",
      "Requirement already satisfied: scipy>=1.2 in /opt/conda/lib/python3.7/site-packages (from linearmodels) (1.7.3)\n",
      "Collecting pyhdfe>=0.1\n",
      "  Downloading pyhdfe-0.1.0-py3-none-any.whl (18 kB)\n",
      "Requirement already satisfied: numpy>=1.16 in /opt/conda/lib/python3.7/site-packages (from linearmodels) (1.20.3)\n",
      "Requirement already satisfied: statsmodels>=0.11 in /opt/conda/lib/python3.7/site-packages (from linearmodels) (0.13.1)\n",
      "Requirement already satisfied: python-dateutil>=2.7.3 in /opt/conda/lib/python3.7/site-packages (from pandas>=0.24->linearmodels) (2.8.2)\n",
      "Requirement already satisfied: pytz>=2017.3 in /opt/conda/lib/python3.7/site-packages (from pandas>=0.24->linearmodels) (2021.3)\n",
      "Requirement already satisfied: six in /opt/conda/lib/python3.7/site-packages (from patsy->linearmodels) (1.16.0)\n",
      "Requirement already satisfied: wrapt>=1.0 in /opt/conda/lib/python3.7/site-packages (from formulaic->linearmodels) (1.13.3)\n",
      "Collecting astor>=0.8\n",
      "  Downloading astor-0.8.1-py2.py3-none-any.whl (27 kB)\n",
      "Collecting interface-meta<2.0.0,>=1.2.0\n",
      "  Downloading interface_meta-1.3.0-py3-none-any.whl (14 kB)\n",
      "Installing collected packages: interface-meta, astor, pyhdfe, property-cached, formulaic, linearmodels\n",
      "Successfully installed astor-0.8.1 formulaic-0.3.4 interface-meta-1.3.0 linearmodels-4.25 property-cached-1.6.4 pyhdfe-0.1.0\n"
     ]
    },
    {
     "name": "stderr",
     "output_type": "stream",
     "text": [
      "WARNING: Running pip as the 'root' user can result in broken permissions and conflicting behaviour with the system package manager. It is recommended to use a virtual environment instead: https://pip.pypa.io/warnings/venv\n"
     ]
    }
   ],
   "source": [
    "# This Python 3 environment comes with many helpful analytics libraries installed\n",
    "# It is defined by the kaggle/python Docker image: https://github.com/kaggle/docker-python \n",
    "# For example, here's several helpful packages to load\n",
    "\n",
    "\n",
    "# Data and Analysis\n",
    "\n",
    "import numpy as np # linear algebra\n",
    "import pandas as pd # data processing, CSV file I/O (e.g. pd.read_csv)\n",
    "# import bq_helper package\n",
    "import bq_helper \n",
    "# from bq_helper import BigQueryHelper\n",
    "import matplotlib.pyplot as plt\n",
    "import matplotlib\n",
    "import seaborn as sns\n",
    "\n",
    "\n",
    "# Input data files are available in the read-only \"../input/\" directory\n",
    "# For example, running this (by clicking run or pressing Shift+Enter) will list all files under the input directory\n",
    "import shutil\n",
    "import os\n",
    "for dirname, _, filenames in os.walk('/kaggle/input'):\n",
    "    for filename in filenames:\n",
    "        print(os.path.join(dirname, filename))\n",
    "\n",
    "os.system('pip install linearmodels')\n",
    "import linearmodels # pip install\n",
    "from linearmodels import PanelOLS\n",
    "# You can write up to 20GB to the current directory (/kaggle/working/) that gets preserved as output when you create a version using \"Save & Run All\" \n",
    "# You can also write temporary files to /kaggle/temp/, but they won't be saved outside of the current session\n",
    "\n",
    "import matplotlib as mpl\n",
    "mpl.rcParams['figure.dpi'] = 300\n",
    "sns.set_palette(\"magma\")"
   ]
  },
  {
   "cell_type": "markdown",
   "id": "e27affc7",
   "metadata": {
    "papermill": {
     "duration": 0.031761,
     "end_time": "2022-05-22T21:51:25.989385",
     "exception": false,
     "start_time": "2022-05-22T21:51:25.957624",
     "status": "completed"
    },
    "tags": []
   },
   "source": [
    "#### Import country codes\n",
    "FIPS codes used for later merging."
   ]
  },
  {
   "cell_type": "code",
   "execution_count": 2,
   "id": "fd30dfdf",
   "metadata": {
    "execution": {
     "iopub.execute_input": "2022-05-22T21:51:26.054977Z",
     "iopub.status.busy": "2022-05-22T21:51:26.053820Z",
     "iopub.status.idle": "2022-05-22T21:51:26.080330Z",
     "shell.execute_reply": "2022-05-22T21:51:26.080922Z",
     "shell.execute_reply.started": "2022-05-22T21:02:56.219985Z"
    },
    "papermill": {
     "duration": 0.061766,
     "end_time": "2022-05-22T21:51:26.081164",
     "exception": false,
     "start_time": "2022-05-22T21:51:26.019398",
     "status": "completed"
    },
    "tags": []
   },
   "outputs": [],
   "source": [
    "# Read in data\n",
    "codes = pd.read_csv('../input/fipscountrycodes/country-codes-fips.csv', encoding='latin-1')\n",
    "codes=codes[['fips','country']]\n",
    "codes=codes.rename(columns={'country':'Country','fips':'country'})"
   ]
  },
  {
   "cell_type": "markdown",
   "id": "38223890",
   "metadata": {
    "papermill": {
     "duration": 0.029044,
     "end_time": "2022-05-22T21:51:26.140389",
     "exception": false,
     "start_time": "2022-05-22T21:51:26.111345",
     "status": "completed"
    },
    "tags": []
   },
   "source": [
    "## Load in weather data from NOAA GSOD dataset\n",
    "\n",
    "Steps:\n",
    "1. Finding stations.\n",
    "2. Find records from all years.\n",
    "3. Merge country codes, stations and records to produce overall dataset.\n",
    "4. (Optional) Just use (previously output) weather records and skip steps 2-3. Saves time, BQ quota."
   ]
  },
  {
   "cell_type": "code",
   "execution_count": 3,
   "id": "1348b40f",
   "metadata": {
    "execution": {
     "iopub.execute_input": "2022-05-22T21:51:26.205361Z",
     "iopub.status.busy": "2022-05-22T21:51:26.204644Z",
     "iopub.status.idle": "2022-05-22T21:51:26.207626Z",
     "shell.execute_reply": "2022-05-22T21:51:26.207113Z",
     "shell.execute_reply.started": "2022-05-22T21:02:58.621374Z"
    },
    "papermill": {
     "duration": 0.037844,
     "end_time": "2022-05-22T21:51:26.207806",
     "exception": false,
     "start_time": "2022-05-22T21:51:26.169962",
     "status": "completed"
    },
    "tags": []
   },
   "outputs": [],
   "source": [
    "# Starting and ending years\n",
    "starting_year = 1992\n",
    "final_year= 2019\n",
    "period=final_year-1-starting_year # Infer years"
   ]
  },
  {
   "cell_type": "markdown",
   "id": "49f58a4d",
   "metadata": {
    "papermill": {
     "duration": 0.029373,
     "end_time": "2022-05-22T21:51:26.269179",
     "exception": false,
     "start_time": "2022-05-22T21:51:26.239806",
     "status": "completed"
    },
    "tags": []
   },
   "source": [
    "#### 1. Find stations (considering those in 1985, 1995, 2005, 2015 to expedite process) \n",
    "\n",
    "Ideally this would involve looking at every year, but limited BigQuery quota requires only using a sample of the stations."
   ]
  },
  {
   "cell_type": "code",
   "execution_count": 4,
   "id": "8788370b",
   "metadata": {
    "execution": {
     "iopub.execute_input": "2022-05-22T21:51:26.338794Z",
     "iopub.status.busy": "2022-05-22T21:51:26.337949Z",
     "iopub.status.idle": "2022-05-22T21:51:36.440803Z",
     "shell.execute_reply": "2022-05-22T21:51:36.442318Z",
     "shell.execute_reply.started": "2022-05-22T21:03:54.077993Z"
    },
    "papermill": {
     "duration": 10.143945,
     "end_time": "2022-05-22T21:51:36.442639",
     "exception": false,
     "start_time": "2022-05-22T21:51:26.298694",
     "status": "completed"
    },
    "tags": []
   },
   "outputs": [
    {
     "name": "stdout",
     "output_type": "stream",
     "text": [
      "Using Kaggle's public dataset BigQuery integration.\n",
      "1985 starting...\n"
     ]
    },
    {
     "name": "stderr",
     "output_type": "stream",
     "text": [
      "/opt/conda/lib/python3.7/site-packages/google/cloud/bigquery/client.py:440: UserWarning: Cannot create BigQuery Storage client, the dependency google-cloud-bigquery-storage is not installed.\n",
      "  \"Cannot create BigQuery Storage client, the dependency \"\n"
     ]
    },
    {
     "name": "stdout",
     "output_type": "stream",
     "text": [
      "1985 downloaded.\n",
      "1985 duplicates dropped.\n",
      "1985 complete.\n",
      "1995 starting...\n",
      "1995 downloaded.\n",
      "1995 duplicates dropped.\n",
      "1995 complete.\n",
      "2005 starting...\n",
      "2005 downloaded.\n",
      "2005 duplicates dropped.\n",
      "2005 complete.\n",
      "2015 starting...\n",
      "2015 downloaded.\n",
      "2015 duplicates dropped.\n",
      "2015 complete.\n"
     ]
    }
   ],
   "source": [
    "weather_bq = bq_helper.BigQueryHelper(active_project=\"bigquery-public-data\",dataset_name=\"noaa_gsod\")\n",
    "stations_frames=[] # eventually becomes a list of DFs\n",
    "\n",
    "for year in [1985,1995,2005,2015]:\n",
    "    query1 = \"\"\"SELECT DISTINCT usaf,stn,country, lat, lon\n",
    "        FROM\n",
    "          `bigquery-public-data.noaa_gsod.stations` a\n",
    "        INNER JOIN `bigquery-public-data.noaa_gsod.gsod{}` b ON a.usaf = b.stn\n",
    "        LIMIT 4000000\n",
    "            \"\"\".format(year)\n",
    "    \n",
    "    # For tracking progress\n",
    "    print(str(year)+\" starting...\")\n",
    "    stations = weather_bq.query_to_pandas_safe(query1, max_gb_scanned=1)\n",
    "    print(str(year)+\" downloaded.\")\n",
    "    stations=stations.drop_duplicates()\n",
    "    print(str(year)+\" duplicates dropped.\")\n",
    "    stations['year']=int(year)\n",
    "    stations_frames.append(stations)\n",
    "    print(str(year)+\" complete.\")\n"
   ]
  },
  {
   "cell_type": "code",
   "execution_count": 5,
   "id": "4b83c7e6",
   "metadata": {
    "execution": {
     "iopub.execute_input": "2022-05-22T21:51:36.520077Z",
     "iopub.status.busy": "2022-05-22T21:51:36.519328Z",
     "iopub.status.idle": "2022-05-22T21:51:36.841287Z",
     "shell.execute_reply": "2022-05-22T21:51:36.842050Z",
     "shell.execute_reply.started": "2022-05-22T21:04:03.576142Z"
    },
    "papermill": {
     "duration": 0.36165,
     "end_time": "2022-05-22T21:51:36.842366",
     "exception": false,
     "start_time": "2022-05-22T21:51:36.480716",
     "status": "completed"
    },
    "tags": []
   },
   "outputs": [
    {
     "name": "stdout",
     "output_type": "stream",
     "text": [
      "(48503, 6)\n",
      "(19267, 5)\n"
     ]
    }
   ],
   "source": [
    "# Merge and drop duplicates from stations df\n",
    "\n",
    "stations=pd.concat(stations_frames) # Merge\n",
    "print(stations.shape) # how many stations remain?\n",
    "\n",
    "stations.to_csv('../stations.csv',index=True) # output file\n",
    "shutil.copy(\"../stations.csv\", \"../working/stations.csv\") # Move into working directory\n",
    "stations=stations.drop('year',axis=1).drop_duplicates() # drop duplicates that exist, based on year duplicates \n",
    "print(stations.shape) # how many stations remain?\n",
    "# stations"
   ]
  },
  {
   "cell_type": "markdown",
   "id": "2e5f4df0",
   "metadata": {
    "papermill": {
     "duration": 0.033225,
     "end_time": "2022-05-22T21:51:36.909854",
     "exception": false,
     "start_time": "2022-05-22T21:51:36.876629",
     "status": "completed"
    },
    "tags": []
   },
   "source": [
    "#### 2. Read in weather records (use existing csv as needed)\n",
    "\n",
    "Use BigQuery and loop through all relevant years. "
   ]
  },
  {
   "cell_type": "code",
   "execution_count": 6,
   "id": "2339a0fc",
   "metadata": {
    "execution": {
     "iopub.execute_input": "2022-05-22T21:51:36.981197Z",
     "iopub.status.busy": "2022-05-22T21:51:36.980084Z",
     "iopub.status.idle": "2022-05-22T21:55:43.910806Z",
     "shell.execute_reply": "2022-05-22T21:55:43.911565Z",
     "shell.execute_reply.started": "2022-05-22T19:36:13.455847Z"
    },
    "papermill": {
     "duration": 246.967883,
     "end_time": "2022-05-22T21:55:43.911855",
     "exception": false,
     "start_time": "2022-05-22T21:51:36.943972",
     "status": "completed"
    },
    "tags": []
   },
   "outputs": [
    {
     "name": "stdout",
     "output_type": "stream",
     "text": [
      "1992\n",
      "SELECT a.usaf,b.stn,a.country,CAST(AVG(b.temp) AS NUMERIC) AS temperature,CAST(AVG(b.prcp) AS NUMERIC) AS precipitation\n",
      "    FROM\n",
      "      `bigquery-public-data.noaa_gsod.stations` a\n",
      "    INNER JOIN `bigquery-public-data.noaa_gsod.gsod1992` b ON a.usaf = b.stn WHERE b.temp!=9999.9 AND b.prcp!=9999.9 \n",
      "    GROUP BY a.country, a.usaf, b.stn\n",
      "        \n",
      "0.056892577558755875\n",
      "1993\n",
      "SELECT a.usaf,b.stn,a.country,CAST(AVG(b.temp) AS NUMERIC) AS temperature,CAST(AVG(b.prcp) AS NUMERIC) AS precipitation\n",
      "    FROM\n",
      "      `bigquery-public-data.noaa_gsod.stations` a\n",
      "    INNER JOIN `bigquery-public-data.noaa_gsod.gsod1993` b ON a.usaf = b.stn WHERE b.temp!=9999.9 AND b.prcp!=9999.9 \n",
      "    GROUP BY a.country, a.usaf, b.stn\n",
      "        \n",
      "0.05765676125884056\n",
      "1994\n",
      "SELECT a.usaf,b.stn,a.country,CAST(AVG(b.temp) AS NUMERIC) AS temperature,CAST(AVG(b.prcp) AS NUMERIC) AS precipitation\n",
      "    FROM\n",
      "      `bigquery-public-data.noaa_gsod.stations` a\n",
      "    INNER JOIN `bigquery-public-data.noaa_gsod.gsod1994` b ON a.usaf = b.stn WHERE b.temp!=9999.9 AND b.prcp!=9999.9 \n",
      "    GROUP BY a.country, a.usaf, b.stn\n",
      "        \n",
      "0.0582071952521801\n",
      "1995\n",
      "SELECT a.usaf,b.stn,a.country,CAST(AVG(b.temp) AS NUMERIC) AS temperature,CAST(AVG(b.prcp) AS NUMERIC) AS precipitation\n",
      "    FROM\n",
      "      `bigquery-public-data.noaa_gsod.stations` a\n",
      "    INNER JOIN `bigquery-public-data.noaa_gsod.gsod1995` b ON a.usaf = b.stn WHERE b.temp!=9999.9 AND b.prcp!=9999.9 \n",
      "    GROUP BY a.country, a.usaf, b.stn\n",
      "        \n",
      "0.056871455162763596\n",
      "1996\n",
      "SELECT a.usaf,b.stn,a.country,CAST(AVG(b.temp) AS NUMERIC) AS temperature,CAST(AVG(b.prcp) AS NUMERIC) AS precipitation\n",
      "    FROM\n",
      "      `bigquery-public-data.noaa_gsod.stations` a\n",
      "    INNER JOIN `bigquery-public-data.noaa_gsod.gsod1996` b ON a.usaf = b.stn WHERE b.temp!=9999.9 AND b.prcp!=9999.9 \n",
      "    GROUP BY a.country, a.usaf, b.stn\n",
      "        \n",
      "0.05627019330859184\n",
      "1997\n",
      "SELECT a.usaf,b.stn,a.country,CAST(AVG(b.temp) AS NUMERIC) AS temperature,CAST(AVG(b.prcp) AS NUMERIC) AS precipitation\n",
      "    FROM\n",
      "      `bigquery-public-data.noaa_gsod.stations` a\n",
      "    INNER JOIN `bigquery-public-data.noaa_gsod.gsod1997` b ON a.usaf = b.stn WHERE b.temp!=9999.9 AND b.prcp!=9999.9 \n",
      "    GROUP BY a.country, a.usaf, b.stn\n",
      "        \n",
      "0.056551847606897354\n",
      "1998\n",
      "SELECT a.usaf,b.stn,a.country,CAST(AVG(b.temp) AS NUMERIC) AS temperature,CAST(AVG(b.prcp) AS NUMERIC) AS precipitation\n",
      "    FROM\n",
      "      `bigquery-public-data.noaa_gsod.stations` a\n",
      "    INNER JOIN `bigquery-public-data.noaa_gsod.gsod1998` b ON a.usaf = b.stn WHERE b.temp!=9999.9 AND b.prcp!=9999.9 \n",
      "    GROUP BY a.country, a.usaf, b.stn\n",
      "        \n",
      "0.056416552513837814\n",
      "1999\n",
      "SELECT a.usaf,b.stn,a.country,CAST(AVG(b.temp) AS NUMERIC) AS temperature,CAST(AVG(b.prcp) AS NUMERIC) AS precipitation\n",
      "    FROM\n",
      "      `bigquery-public-data.noaa_gsod.stations` a\n",
      "    INNER JOIN `bigquery-public-data.noaa_gsod.gsod1999` b ON a.usaf = b.stn WHERE b.temp!=9999.9 AND b.prcp!=9999.9 \n",
      "    GROUP BY a.country, a.usaf, b.stn\n",
      "        \n",
      "0.05763943865895271\n",
      "2000\n",
      "SELECT a.usaf,b.stn,a.country,CAST(AVG(b.temp) AS NUMERIC) AS temperature,CAST(AVG(b.prcp) AS NUMERIC) AS precipitation\n",
      "    FROM\n",
      "      `bigquery-public-data.noaa_gsod.stations` a\n",
      "    INNER JOIN `bigquery-public-data.noaa_gsod.gsod2000` b ON a.usaf = b.stn WHERE b.temp!=9999.9 AND b.prcp!=9999.9 \n",
      "    GROUP BY a.country, a.usaf, b.stn\n",
      "        \n",
      "0.057256754487752914\n",
      "2001\n",
      "SELECT a.usaf,b.stn,a.country,CAST(AVG(b.temp) AS NUMERIC) AS temperature,CAST(AVG(b.prcp) AS NUMERIC) AS precipitation\n",
      "    FROM\n",
      "      `bigquery-public-data.noaa_gsod.stations` a\n",
      "    INNER JOIN `bigquery-public-data.noaa_gsod.gsod2001` b ON a.usaf = b.stn WHERE b.temp!=9999.9 AND b.prcp!=9999.9 \n",
      "    GROUP BY a.country, a.usaf, b.stn\n",
      "        \n",
      "0.05944990739226341\n",
      "2002\n",
      "SELECT a.usaf,b.stn,a.country,CAST(AVG(b.temp) AS NUMERIC) AS temperature,CAST(AVG(b.prcp) AS NUMERIC) AS precipitation\n",
      "    FROM\n",
      "      `bigquery-public-data.noaa_gsod.stations` a\n",
      "    INNER JOIN `bigquery-public-data.noaa_gsod.gsod2002` b ON a.usaf = b.stn WHERE b.temp!=9999.9 AND b.prcp!=9999.9 \n",
      "    GROUP BY a.country, a.usaf, b.stn\n",
      "        \n",
      "0.06265981867909431\n",
      "2003\n",
      "SELECT a.usaf,b.stn,a.country,CAST(AVG(b.temp) AS NUMERIC) AS temperature,CAST(AVG(b.prcp) AS NUMERIC) AS precipitation\n",
      "    FROM\n",
      "      `bigquery-public-data.noaa_gsod.stations` a\n",
      "    INNER JOIN `bigquery-public-data.noaa_gsod.gsod2003` b ON a.usaf = b.stn WHERE b.temp!=9999.9 AND b.prcp!=9999.9 \n",
      "    GROUP BY a.country, a.usaf, b.stn\n",
      "        \n",
      "0.06318915262818336\n",
      "2004\n",
      "SELECT a.usaf,b.stn,a.country,CAST(AVG(b.temp) AS NUMERIC) AS temperature,CAST(AVG(b.prcp) AS NUMERIC) AS precipitation\n",
      "    FROM\n",
      "      `bigquery-public-data.noaa_gsod.stations` a\n",
      "    INNER JOIN `bigquery-public-data.noaa_gsod.gsod2004` b ON a.usaf = b.stn WHERE b.temp!=9999.9 AND b.prcp!=9999.9 \n",
      "    GROUP BY a.country, a.usaf, b.stn\n",
      "        \n",
      "0.06625362113118172\n",
      "2005\n",
      "SELECT a.usaf,b.stn,a.country,CAST(AVG(b.temp) AS NUMERIC) AS temperature,CAST(AVG(b.prcp) AS NUMERIC) AS precipitation\n",
      "    FROM\n",
      "      `bigquery-public-data.noaa_gsod.stations` a\n",
      "    INNER JOIN `bigquery-public-data.noaa_gsod.gsod2005` b ON a.usaf = b.stn WHERE b.temp!=9999.9 AND b.prcp!=9999.9 \n",
      "    GROUP BY a.country, a.usaf, b.stn\n",
      "        \n",
      "0.07735617831349373\n",
      "2006\n",
      "SELECT a.usaf,b.stn,a.country,CAST(AVG(b.temp) AS NUMERIC) AS temperature,CAST(AVG(b.prcp) AS NUMERIC) AS precipitation\n",
      "    FROM\n",
      "      `bigquery-public-data.noaa_gsod.stations` a\n",
      "    INNER JOIN `bigquery-public-data.noaa_gsod.gsod2006` b ON a.usaf = b.stn WHERE b.temp!=9999.9 AND b.prcp!=9999.9 \n",
      "    GROUP BY a.country, a.usaf, b.stn\n",
      "        \n",
      "0.07323965802788734\n",
      "2007\n",
      "SELECT a.usaf,b.stn,a.country,CAST(AVG(b.temp) AS NUMERIC) AS temperature,CAST(AVG(b.prcp) AS NUMERIC) AS precipitation\n",
      "    FROM\n",
      "      `bigquery-public-data.noaa_gsod.stations` a\n",
      "    INNER JOIN `bigquery-public-data.noaa_gsod.gsod2007` b ON a.usaf = b.stn WHERE b.temp!=9999.9 AND b.prcp!=9999.9 \n",
      "    GROUP BY a.country, a.usaf, b.stn\n",
      "        \n",
      "0.07478020712733269\n",
      "2008\n",
      "SELECT a.usaf,b.stn,a.country,CAST(AVG(b.temp) AS NUMERIC) AS temperature,CAST(AVG(b.prcp) AS NUMERIC) AS precipitation\n",
      "    FROM\n",
      "      `bigquery-public-data.noaa_gsod.stations` a\n",
      "    INNER JOIN `bigquery-public-data.noaa_gsod.gsod2008` b ON a.usaf = b.stn WHERE b.temp!=9999.9 AND b.prcp!=9999.9 \n",
      "    GROUP BY a.country, a.usaf, b.stn\n",
      "        \n",
      "0.07841810956597328\n",
      "2009\n",
      "SELECT a.usaf,b.stn,a.country,CAST(AVG(b.temp) AS NUMERIC) AS temperature,CAST(AVG(b.prcp) AS NUMERIC) AS precipitation\n",
      "    FROM\n",
      "      `bigquery-public-data.noaa_gsod.stations` a\n",
      "    INNER JOIN `bigquery-public-data.noaa_gsod.gsod2009` b ON a.usaf = b.stn WHERE b.temp!=9999.9 AND b.prcp!=9999.9 \n",
      "    GROUP BY a.country, a.usaf, b.stn\n",
      "        \n",
      "0.0813513733446598\n",
      "2010\n",
      "SELECT a.usaf,b.stn,a.country,CAST(AVG(b.temp) AS NUMERIC) AS temperature,CAST(AVG(b.prcp) AS NUMERIC) AS precipitation\n",
      "    FROM\n",
      "      `bigquery-public-data.noaa_gsod.stations` a\n",
      "    INNER JOIN `bigquery-public-data.noaa_gsod.gsod2010` b ON a.usaf = b.stn WHERE b.temp!=9999.9 AND b.prcp!=9999.9 \n",
      "    GROUP BY a.country, a.usaf, b.stn\n",
      "        \n",
      "0.08392828330397606\n",
      "2011\n",
      "SELECT a.usaf,b.stn,a.country,CAST(AVG(b.temp) AS NUMERIC) AS temperature,CAST(AVG(b.prcp) AS NUMERIC) AS precipitation\n",
      "    FROM\n",
      "      `bigquery-public-data.noaa_gsod.stations` a\n",
      "    INNER JOIN `bigquery-public-data.noaa_gsod.gsod2011` b ON a.usaf = b.stn WHERE b.temp!=9999.9 AND b.prcp!=9999.9 \n",
      "    GROUP BY a.country, a.usaf, b.stn\n",
      "        \n",
      "0.0857384167611599\n",
      "2012\n",
      "SELECT a.usaf,b.stn,a.country,CAST(AVG(b.temp) AS NUMERIC) AS temperature,CAST(AVG(b.prcp) AS NUMERIC) AS precipitation\n",
      "    FROM\n",
      "      `bigquery-public-data.noaa_gsod.stations` a\n",
      "    INNER JOIN `bigquery-public-data.noaa_gsod.gsod2012` b ON a.usaf = b.stn WHERE b.temp!=9999.9 AND b.prcp!=9999.9 \n",
      "    GROUP BY a.country, a.usaf, b.stn\n",
      "        \n",
      "0.08971208706498146\n",
      "2013\n",
      "SELECT a.usaf,b.stn,a.country,CAST(AVG(b.temp) AS NUMERIC) AS temperature,CAST(AVG(b.prcp) AS NUMERIC) AS precipitation\n",
      "    FROM\n",
      "      `bigquery-public-data.noaa_gsod.stations` a\n",
      "    INNER JOIN `bigquery-public-data.noaa_gsod.gsod2013` b ON a.usaf = b.stn WHERE b.temp!=9999.9 AND b.prcp!=9999.9 \n",
      "    GROUP BY a.country, a.usaf, b.stn\n",
      "        \n",
      "0.08991673961281776\n",
      "2014\n",
      "SELECT a.usaf,b.stn,a.country,CAST(AVG(b.temp) AS NUMERIC) AS temperature,CAST(AVG(b.prcp) AS NUMERIC) AS precipitation\n",
      "    FROM\n",
      "      `bigquery-public-data.noaa_gsod.stations` a\n",
      "    INNER JOIN `bigquery-public-data.noaa_gsod.gsod2014` b ON a.usaf = b.stn WHERE b.temp!=9999.9 AND b.prcp!=9999.9 \n",
      "    GROUP BY a.country, a.usaf, b.stn\n",
      "        \n",
      "0.09231778606772423\n",
      "2015\n",
      "SELECT a.usaf,b.stn,a.country,CAST(AVG(b.temp) AS NUMERIC) AS temperature,CAST(AVG(b.prcp) AS NUMERIC) AS precipitation\n",
      "    FROM\n",
      "      `bigquery-public-data.noaa_gsod.stations` a\n",
      "    INNER JOIN `bigquery-public-data.noaa_gsod.gsod2015` b ON a.usaf = b.stn WHERE b.temp!=9999.9 AND b.prcp!=9999.9 \n",
      "    GROUP BY a.country, a.usaf, b.stn\n",
      "        \n",
      "0.09422566369175911\n",
      "2016\n",
      "SELECT a.usaf,b.stn,a.country,CAST(AVG(b.temp) AS NUMERIC) AS temperature,CAST(AVG(b.prcp) AS NUMERIC) AS precipitation\n",
      "    FROM\n",
      "      `bigquery-public-data.noaa_gsod.stations` a\n",
      "    INNER JOIN `bigquery-public-data.noaa_gsod.gsod2016` b ON a.usaf = b.stn WHERE b.temp!=9999.9 AND b.prcp!=9999.9 \n",
      "    GROUP BY a.country, a.usaf, b.stn\n",
      "        \n",
      "0.09628039225935936\n",
      "2017\n",
      "SELECT a.usaf,b.stn,a.country,CAST(AVG(b.temp) AS NUMERIC) AS temperature,CAST(AVG(b.prcp) AS NUMERIC) AS precipitation\n",
      "    FROM\n",
      "      `bigquery-public-data.noaa_gsod.stations` a\n",
      "    INNER JOIN `bigquery-public-data.noaa_gsod.gsod2017` b ON a.usaf = b.stn WHERE b.temp!=9999.9 AND b.prcp!=9999.9 \n",
      "    GROUP BY a.country, a.usaf, b.stn\n",
      "        \n",
      "0.0962911881506443\n",
      "2018\n",
      "SELECT a.usaf,b.stn,a.country,CAST(AVG(b.temp) AS NUMERIC) AS temperature,CAST(AVG(b.prcp) AS NUMERIC) AS precipitation\n",
      "    FROM\n",
      "      `bigquery-public-data.noaa_gsod.stations` a\n",
      "    INNER JOIN `bigquery-public-data.noaa_gsod.gsod2018` b ON a.usaf = b.stn WHERE b.temp!=9999.9 AND b.prcp!=9999.9 \n",
      "    GROUP BY a.country, a.usaf, b.stn\n",
      "        \n",
      "0.08997603878378868\n"
     ]
    }
   ],
   "source": [
    "weather_frames=[] # ready to merge\n",
    "\n",
    "# Append a dataframe for each year being considered\n",
    "for year in range(starting_year,final_year):\n",
    "        query1 = \"\"\"SELECT a.usaf,b.stn,a.country,CAST(AVG(b.temp) AS NUMERIC) AS temperature,CAST(AVG(b.prcp) AS NUMERIC) AS precipitation\n",
    "    FROM\n",
    "      `bigquery-public-data.noaa_gsod.stations` a\n",
    "    INNER JOIN `bigquery-public-data.noaa_gsod.gsod{}` b ON a.usaf = b.stn WHERE b.temp!=9999.9 AND b.prcp!=9999.9 \n",
    "    GROUP BY a.country, a.usaf, b.stn\n",
    "        \"\"\".format(year)\n",
    "        \n",
    "        # to keep track of progress\n",
    "        print(year)\n",
    "        print(query1)\n",
    "        \n",
    "        # to keep track of progress\n",
    "        a=weather_bq.query_to_pandas_safe(query1, max_gb_scanned=5)\n",
    "        \n",
    "        # estimate of query\n",
    "        print(weather_bq.estimate_query_size(query1))\n",
    "        \n",
    "        # Add the correct year to these entries\n",
    "        a['year']=int(year)\n",
    "        weather_frames.append(a)\n",
    "\n",
    "# weather_frames"
   ]
  },
  {
   "cell_type": "markdown",
   "id": "9cab1689",
   "metadata": {
    "papermill": {
     "duration": 0.043263,
     "end_time": "2022-05-22T21:55:43.999519",
     "exception": false,
     "start_time": "2022-05-22T21:55:43.956256",
     "status": "completed"
    },
    "tags": []
   },
   "source": [
    "#### 3. Concatenate and merge\n",
    "\n",
    "Merge the codes, station and weather records data. Grouping by country-wide annual average. \n",
    "\n",
    "Given more time, several other approaches could have been used: using population-weighting, subnational regions etc. See essay for details."
   ]
  },
  {
   "cell_type": "code",
   "execution_count": 7,
   "id": "aa3d81bc",
   "metadata": {
    "execution": {
     "iopub.execute_input": "2022-05-22T21:55:44.089870Z",
     "iopub.status.busy": "2022-05-22T21:55:44.089169Z",
     "iopub.status.idle": "2022-05-22T21:55:46.817999Z",
     "shell.execute_reply": "2022-05-22T21:55:46.817484Z",
     "shell.execute_reply.started": "2022-05-22T19:36:13.459155Z"
    },
    "papermill": {
     "duration": 2.774726,
     "end_time": "2022-05-22T21:55:46.818142",
     "exception": false,
     "start_time": "2022-05-22T21:55:44.043416",
     "status": "completed"
    },
    "tags": []
   },
   "outputs": [
    {
     "data": {
      "text/plain": [
       "'../working/noaa.csv'"
      ]
     },
     "execution_count": 7,
     "metadata": {},
     "output_type": "execute_result"
    }
   ],
   "source": [
    "# Concatenate the past weather frames\n",
    "noaa = pd.concat(weather_frames)\n",
    "\n",
    "# Merge on stations and country codes\n",
    "noaa=pd.merge(noaa,stations)\n",
    "noaa=pd.merge(codes,noaa)\n",
    "noaa.drop(axis=1,columns=['country','usaf','stn','lat', 'lon'],inplace=True) # remove repeat columns\n",
    "\n",
    "# Get country-wide averages. A more robust analysis would use population weighting schemes, subnational regions etc, (eg Zhao et al 2018)\n",
    "noaa=noaa.groupby(by=['Country','year']).mean()\n",
    "# os.chdir(r'/kaggle/working')\n",
    "noaa.to_csv('../noaa.csv',index=True) # output file\n",
    "shutil.copy(\"../noaa.csv\", \"../working/noaa.csv\")"
   ]
  },
  {
   "cell_type": "markdown",
   "id": "79793bdd",
   "metadata": {
    "papermill": {
     "duration": 0.042449,
     "end_time": "2022-05-22T21:55:46.904439",
     "exception": false,
     "start_time": "2022-05-22T21:55:46.861990",
     "status": "completed"
    },
    "tags": []
   },
   "source": [
    "#### 4. (Optional) Now use read-in data so that BQ quota isn't used up each time\n",
    "\n",
    "This allows the above to be commented out, saving runtime and BQ quota."
   ]
  },
  {
   "cell_type": "code",
   "execution_count": 8,
   "id": "36b716c8",
   "metadata": {
    "execution": {
     "iopub.execute_input": "2022-05-22T21:55:46.993901Z",
     "iopub.status.busy": "2022-05-22T21:55:46.993201Z",
     "iopub.status.idle": "2022-05-22T21:55:47.029513Z",
     "shell.execute_reply": "2022-05-22T21:55:47.030079Z",
     "shell.execute_reply.started": "2022-05-22T21:04:33.019617Z"
    },
    "papermill": {
     "duration": 0.082674,
     "end_time": "2022-05-22T21:55:47.030279",
     "exception": false,
     "start_time": "2022-05-22T21:55:46.947605",
     "status": "completed"
    },
    "tags": []
   },
   "outputs": [
    {
     "name": "stdout",
     "output_type": "stream",
     "text": [
      "(6399, 4)\n",
      "Sanity check:\n",
      "       Country  year  temperature  precipitation\n",
      "0  Afghanistan  1992    54.255075      17.930352\n",
      "1  Afghanistan  1993    54.080898      36.498651\n",
      "2  Afghanistan  1994    64.206107      25.722498\n",
      "3  Afghanistan  1995    60.988315      21.461210\n",
      "4  Afghanistan  1996    60.586448      27.588678\n",
      "Sanity check of conversion:\n",
      "       Country  year  temperature  precipitation\n",
      "0  Afghanistan  1992    12.363930      17.930352\n",
      "1  Afghanistan  1993    12.267165      36.498651\n",
      "2  Afghanistan  1994    17.892281      25.722498\n",
      "3  Afghanistan  1995    16.104619      21.461210\n",
      "4  Afghanistan  1996    15.881360      27.588678\n"
     ]
    }
   ],
   "source": [
    "noaa_weather = pd.read_csv('../input/noaa-csv/noaa.csv') # read in the previous output (the code for which need only be run once)\n",
    "\n",
    "print(noaa_weather.shape) # how many data points \n",
    "print(\"Sanity check:\")\n",
    "print(noaa_weather.head())\n",
    "\n",
    "noaa_weather['temperature']=(noaa_weather['temperature'] - 32) *(5/9) # convert to celcius\n",
    "print(\"Sanity check of conversion:\")\n",
    "print(noaa_weather.head()) # Sanity check"
   ]
  },
  {
   "cell_type": "markdown",
   "id": "3946449e",
   "metadata": {
    "papermill": {
     "duration": 0.043695,
     "end_time": "2022-05-22T21:55:47.119502",
     "exception": false,
     "start_time": "2022-05-22T21:55:47.075807",
     "status": "completed"
    },
    "tags": []
   },
   "source": [
    "### Read in WDI Data\n",
    "\n",
    "Reading in the World Bank Development Indicators data."
   ]
  },
  {
   "cell_type": "markdown",
   "id": "701c8ba7",
   "metadata": {
    "papermill": {
     "duration": 0.04449,
     "end_time": "2022-05-22T21:55:47.209220",
     "exception": false,
     "start_time": "2022-05-22T21:55:47.164730",
     "status": "completed"
    },
    "tags": []
   },
   "source": [
    "#### Pull out relevant data on each country \n",
    "\n",
    "Several factors are included:\n",
    "* Agricultural sector size (Agriculture, forestry, and fishing, value added (% of GDP))\n",
    "* GDP, PPP (constant 2011 international $)\n",
    "* Total greenhouse gas emissions (kt of CO2 equivalent)\n",
    "* Average precipitation in depth (mm per year)\n",
    "* GDP growth (annual %)"
   ]
  },
  {
   "cell_type": "code",
   "execution_count": 9,
   "id": "f16447ad",
   "metadata": {
    "execution": {
     "iopub.execute_input": "2022-05-22T21:55:47.299128Z",
     "iopub.status.busy": "2022-05-22T21:55:47.298447Z",
     "iopub.status.idle": "2022-05-22T21:55:53.459599Z",
     "shell.execute_reply": "2022-05-22T21:55:53.458987Z",
     "shell.execute_reply.started": "2022-05-22T21:04:35.089426Z"
    },
    "papermill": {
     "duration": 6.2073,
     "end_time": "2022-05-22T21:55:53.459797",
     "exception": false,
     "start_time": "2022-05-22T21:55:47.252497",
     "status": "completed"
    },
    "tags": []
   },
   "outputs": [],
   "source": [
    "# Pull out World Bank Development Indicator data\n",
    "WDI = pd.read_csv('../input/wdi-data-csv-format/WDIData.csv')\n",
    "\n",
    "# Ideally, the below replacements should use a more robust system like fuzzy matching. These line up with the definitions in the codes.\n",
    "WDI['Country Name'].replace(to_replace=\"United States\",value=\"United States of America\",inplace=True) # fix for later\n",
    "WDI['Country Name'].replace(to_replace='Korea, Dem. People’s Rep.',value=\"Korea, North\",inplace=True) # fix for later\n",
    "WDI['Country Name'].replace(to_replace=\"Korea, Rep.\",value=\"Korea, South\",inplace=True) # fix for later"
   ]
  },
  {
   "cell_type": "code",
   "execution_count": 10,
   "id": "9bb0bf5f",
   "metadata": {
    "execution": {
     "iopub.execute_input": "2022-05-22T21:55:53.624827Z",
     "iopub.status.busy": "2022-05-22T21:55:53.624010Z",
     "iopub.status.idle": "2022-05-22T21:55:53.887887Z",
     "shell.execute_reply": "2022-05-22T21:55:53.888389Z",
     "shell.execute_reply.started": "2022-05-22T21:04:39.294681Z"
    },
    "papermill": {
     "duration": 0.381956,
     "end_time": "2022-05-22T21:55:53.888594",
     "exception": false,
     "start_time": "2022-05-22T21:55:53.506638",
     "status": "completed"
    },
    "tags": []
   },
   "outputs": [
    {
     "name": "stdout",
     "output_type": "stream",
     "text": [
      "NY.GDP.MKTP.PP.KD NV.AGR.TOTL.ZS EN.ATM.GHGT.KT.CE AG.LND.PRCP.MM NY.GDP.MKTP.KD.ZG\n"
     ]
    }
   ],
   "source": [
    "# Find codes for GDP, Agriculture, Greenhouse Gas Emissions, Average Precipitation\n",
    "\n",
    "gdp_code=WDI['Indicator Code'][WDI['Indicator Name']==\"GDP, PPP (constant 2011 international $)\"].unique()[0]\n",
    "agriculture_code=WDI['Indicator Code'][WDI['Indicator Name']==\"Agriculture, forestry, and fishing, value added (% of GDP)\"].unique()[0]\n",
    "c02_code=WDI['Indicator Code'][WDI['Indicator Name']==\"Total greenhouse gas emissions (kt of CO2 equivalent)\"].unique()[0]\n",
    "rain_code=WDI['Indicator Code'][WDI['Indicator Name']==\"Average precipitation in depth (mm per year)\"].unique()[0]\n",
    "popn_code=\"SP.POP.TOTL\"\n",
    "growth_code=WDI['Indicator Code'][WDI['Indicator Name']=='GDP growth (annual %)'].unique()[0]\n",
    "\n",
    "print(gdp_code,agriculture_code,c02_code,rain_code,growth_code) # Sanity check\n",
    "\n",
    "# Found using: WDI['Indicator Name'][WDI['Indicator Name'].str.contains(\"GDP\")].unique()"
   ]
  },
  {
   "cell_type": "markdown",
   "id": "2ffc214c",
   "metadata": {
    "papermill": {
     "duration": 0.045418,
     "end_time": "2022-05-22T21:55:53.980454",
     "exception": false,
     "start_time": "2022-05-22T21:55:53.935036",
     "status": "completed"
    },
    "tags": []
   },
   "source": [
    "#### Get into long format"
   ]
  },
  {
   "cell_type": "code",
   "execution_count": 11,
   "id": "086839b2",
   "metadata": {
    "execution": {
     "iopub.execute_input": "2022-05-22T21:55:54.214632Z",
     "iopub.status.busy": "2022-05-22T21:55:54.146438Z",
     "iopub.status.idle": "2022-05-22T21:55:54.411435Z",
     "shell.execute_reply": "2022-05-22T21:55:54.410719Z",
     "shell.execute_reply.started": "2022-05-22T21:04:39.614429Z"
    },
    "papermill": {
     "duration": 0.385148,
     "end_time": "2022-05-22T21:55:54.411686",
     "exception": false,
     "start_time": "2022-05-22T21:55:54.026538",
     "status": "completed"
    },
    "tags": []
   },
   "outputs": [],
   "source": [
    "# Choose WDI data which are \n",
    "WDI=WDI[(WDI['Indicator Code']==gdp_code )|(WDI['Indicator Code']==agriculture_code)|\n",
    "        (WDI['Indicator Code']==popn_code)|(WDI['Indicator Code']==growth_code)] # (WDI['Indicator Code']==rain_code)|(WDI['Indicator Code']==c02_code)|\n",
    "\n",
    "# Years included in the dataset\n",
    "WDI_years=list(range(1960,2018))\n",
    "WDI_years=[str(int) for int in WDI_years] # string type\n",
    "\n",
    "# Reformat for convenience\n",
    "WDI=WDI.melt(id_vars=['Indicator Name','Country Name'], value_vars=WDI_years)\n",
    "WDI=WDI.pivot(index=['Country Name', 'variable'],columns='Indicator Name', values='value')"
   ]
  },
  {
   "cell_type": "markdown",
   "id": "96b26403",
   "metadata": {
    "papermill": {
     "duration": 0.043282,
     "end_time": "2022-05-22T21:55:54.501979",
     "exception": false,
     "start_time": "2022-05-22T21:55:54.458697",
     "status": "completed"
    },
    "tags": []
   },
   "source": [
    "#### Alter some names for later convenience"
   ]
  },
  {
   "cell_type": "code",
   "execution_count": 12,
   "id": "c97a1958",
   "metadata": {
    "execution": {
     "iopub.execute_input": "2022-05-22T21:55:54.602896Z",
     "iopub.status.busy": "2022-05-22T21:55:54.601829Z",
     "iopub.status.idle": "2022-05-22T21:55:54.630893Z",
     "shell.execute_reply": "2022-05-22T21:55:54.631407Z",
     "shell.execute_reply.started": "2022-05-22T21:04:39.940511Z"
    },
    "papermill": {
     "duration": 0.084419,
     "end_time": "2022-05-22T21:55:54.631584",
     "exception": false,
     "start_time": "2022-05-22T21:55:54.547165",
     "status": "completed"
    },
    "tags": []
   },
   "outputs": [
    {
     "name": "stderr",
     "output_type": "stream",
     "text": [
      "/opt/conda/lib/python3.7/site-packages/ipykernel_launcher.py:4: SettingWithCopyWarning: \n",
      "A value is trying to be set on a copy of a slice from a DataFrame\n",
      "\n",
      "See the caveats in the documentation: https://pandas.pydata.org/pandas-docs/stable/user_guide/indexing.html#returning-a-view-versus-a-copy\n",
      "  after removing the cwd from sys.path.\n"
     ]
    },
    {
     "data": {
      "text/html": [
       "<div>\n",
       "<style scoped>\n",
       "    .dataframe tbody tr th:only-of-type {\n",
       "        vertical-align: middle;\n",
       "    }\n",
       "\n",
       "    .dataframe tbody tr th {\n",
       "        vertical-align: top;\n",
       "    }\n",
       "\n",
       "    .dataframe thead th {\n",
       "        text-align: right;\n",
       "    }\n",
       "</style>\n",
       "<table border=\"1\" class=\"dataframe\">\n",
       "  <thead>\n",
       "    <tr style=\"text-align: right;\">\n",
       "      <th>Indicator Name</th>\n",
       "      <th>Country</th>\n",
       "      <th>year</th>\n",
       "      <th>Agriculture, forestry, and fishing, value added (% of GDP)</th>\n",
       "      <th>GDP growth (annual %)</th>\n",
       "      <th>GDP, PPP (constant 2011 international $)</th>\n",
       "      <th>Population, total</th>\n",
       "    </tr>\n",
       "  </thead>\n",
       "  <tbody>\n",
       "    <tr>\n",
       "      <th>0</th>\n",
       "      <td>Afghanistan</td>\n",
       "      <td>1960</td>\n",
       "      <td>NaN</td>\n",
       "      <td>NaN</td>\n",
       "      <td>NaN</td>\n",
       "      <td>8996351.0</td>\n",
       "    </tr>\n",
       "    <tr>\n",
       "      <th>1</th>\n",
       "      <td>Afghanistan</td>\n",
       "      <td>1961</td>\n",
       "      <td>NaN</td>\n",
       "      <td>NaN</td>\n",
       "      <td>NaN</td>\n",
       "      <td>9166764.0</td>\n",
       "    </tr>\n",
       "    <tr>\n",
       "      <th>2</th>\n",
       "      <td>Afghanistan</td>\n",
       "      <td>1962</td>\n",
       "      <td>NaN</td>\n",
       "      <td>NaN</td>\n",
       "      <td>NaN</td>\n",
       "      <td>9345868.0</td>\n",
       "    </tr>\n",
       "    <tr>\n",
       "      <th>3</th>\n",
       "      <td>Afghanistan</td>\n",
       "      <td>1963</td>\n",
       "      <td>NaN</td>\n",
       "      <td>NaN</td>\n",
       "      <td>NaN</td>\n",
       "      <td>9533954.0</td>\n",
       "    </tr>\n",
       "    <tr>\n",
       "      <th>4</th>\n",
       "      <td>Afghanistan</td>\n",
       "      <td>1964</td>\n",
       "      <td>NaN</td>\n",
       "      <td>NaN</td>\n",
       "      <td>NaN</td>\n",
       "      <td>9731361.0</td>\n",
       "    </tr>\n",
       "  </tbody>\n",
       "</table>\n",
       "</div>"
      ],
      "text/plain": [
       "Indicator Name      Country  year  \\\n",
       "0               Afghanistan  1960   \n",
       "1               Afghanistan  1961   \n",
       "2               Afghanistan  1962   \n",
       "3               Afghanistan  1963   \n",
       "4               Afghanistan  1964   \n",
       "\n",
       "Indicator Name  Agriculture, forestry, and fishing, value added (% of GDP)  \\\n",
       "0                                                             NaN            \n",
       "1                                                             NaN            \n",
       "2                                                             NaN            \n",
       "3                                                             NaN            \n",
       "4                                                             NaN            \n",
       "\n",
       "Indicator Name  GDP growth (annual %)  \\\n",
       "0                                 NaN   \n",
       "1                                 NaN   \n",
       "2                                 NaN   \n",
       "3                                 NaN   \n",
       "4                                 NaN   \n",
       "\n",
       "Indicator Name  GDP, PPP (constant 2011 international $)  Population, total  \n",
       "0                                                    NaN          8996351.0  \n",
       "1                                                    NaN          9166764.0  \n",
       "2                                                    NaN          9345868.0  \n",
       "3                                                    NaN          9533954.0  \n",
       "4                                                    NaN          9731361.0  "
      ]
     },
     "execution_count": 12,
     "metadata": {},
     "output_type": "execute_result"
    }
   ],
   "source": [
    "# Ensure all names are correct for later merging\n",
    "WDI=WDI.reset_index()\n",
    "WDI=WDI.rename(columns={\"Country Name\": \"Country\", \"variable\": \"year\"})\n",
    "WDI['Country'][WDI['Country']=='United States of America'] = 'United States'\n",
    "WDI['year']=WDI['year'].astype('int')\n",
    "WDI.head()"
   ]
  },
  {
   "cell_type": "markdown",
   "id": "7aea18de",
   "metadata": {
    "papermill": {
     "duration": 0.04827,
     "end_time": "2022-05-22T21:55:54.726861",
     "exception": false,
     "start_time": "2022-05-22T21:55:54.678591",
     "status": "completed"
    },
    "tags": []
   },
   "source": [
    "## Final output: making the weather_GDP dataset for regression\n",
    "\n",
    "The final output is a long-formal dataframe, setup for time and entity effects. This allows the linearmodels package to be used immediately."
   ]
  },
  {
   "cell_type": "code",
   "execution_count": 13,
   "id": "70cabff4",
   "metadata": {
    "execution": {
     "iopub.execute_input": "2022-05-22T21:55:54.832289Z",
     "iopub.status.busy": "2022-05-22T21:55:54.828750Z",
     "iopub.status.idle": "2022-05-22T21:55:54.841848Z",
     "shell.execute_reply": "2022-05-22T21:55:54.841132Z",
     "shell.execute_reply.started": "2022-05-22T21:04:39.968778Z"
    },
    "papermill": {
     "duration": 0.0677,
     "end_time": "2022-05-22T21:55:54.842020",
     "exception": false,
     "start_time": "2022-05-22T21:55:54.774320",
     "status": "completed"
    },
    "tags": []
   },
   "outputs": [],
   "source": [
    "# Merge data\n",
    "weather_GDP=pd.merge(noaa_weather,WDI)\n",
    "\n",
    "# Rename for usability\n",
    "weather_GDP=weather_GDP.rename(columns={\"Agriculture, forestry, and fishing, value added (% of GDP)\": \"agricultural\", \n",
    "                            \"temperature\": \"avg_temp\",\n",
    "                           \"precipitation\":\"avg_precip\",\n",
    "                           \"Population, total\":\"population\",\n",
    "                           \"Total greenhouse gas emissions (kt of CO2 equivalent)\":\"c02\",\n",
    "                                       \"GDP, PPP (constant 2011 international $)\":\"gdp\",\n",
    "                                       \"Country\":\"country\",\n",
    "                                       \"Year\":\"year\",\n",
    "                                       \"GDP growth (annual %)\":\"growth\"}\n",
    "                              )"
   ]
  },
  {
   "cell_type": "markdown",
   "id": "3b3a8000",
   "metadata": {
    "papermill": {
     "duration": 0.045695,
     "end_time": "2022-05-22T21:55:54.938217",
     "exception": false,
     "start_time": "2022-05-22T21:55:54.892522",
     "status": "completed"
    },
    "tags": []
   },
   "source": [
    "#### Defining median values\n",
    "\n",
    "Median values are defined based on the distribution of values from a given year. This is a departure from Dell et al (2012), but better accounts for changes in wealth levels, particularly important for emerging economies (otherwise, this could yield biased estimates)."
   ]
  },
  {
   "cell_type": "code",
   "execution_count": 14,
   "id": "c73d9a47",
   "metadata": {
    "execution": {
     "iopub.execute_input": "2022-05-22T21:55:55.038926Z",
     "iopub.status.busy": "2022-05-22T21:55:55.036940Z",
     "iopub.status.idle": "2022-05-22T21:55:55.070483Z",
     "shell.execute_reply": "2022-05-22T21:55:55.069804Z",
     "shell.execute_reply.started": "2022-05-22T21:04:39.991837Z"
    },
    "papermill": {
     "duration": 0.087909,
     "end_time": "2022-05-22T21:55:55.070643",
     "exception": false,
     "start_time": "2022-05-22T21:55:54.982734",
     "status": "completed"
    },
    "tags": []
   },
   "outputs": [],
   "source": [
    "# Defining median GDP\n",
    "median_GDP=weather_GDP.groupby(['year']).median()['gdp'].reset_index()\n",
    "median_GDP=median_GDP.rename(columns={'gdp':'year_median_gdp'})\n",
    "weather_GDP=pd.merge(weather_GDP,median_GDP,on='year')\n",
    "\n",
    "\n",
    "# Defining median temp\n",
    "median_temp=weather_GDP.groupby(['year']).median()['avg_temp'].reset_index()\n",
    "median_temp=median_temp.rename(columns={'avg_temp':'year_median_temp'})\n",
    "weather_GDP=pd.merge(weather_GDP,median_temp,on='year')\n",
    "\n",
    "# Define dummy variables\n",
    "weather_GDP['poor']=weather_GDP['gdp']<weather_GDP['year_median_gdp']\n",
    "weather_GDP['hot']=weather_GDP['avg_temp']>weather_GDP['year_median_temp']\n",
    "\n",
    "# Defining median population -- for plotting\n",
    "median_pop=weather_GDP.groupby('country').mean()['population'].describe()[5]\n",
    "weather_GDP['large']=weather_GDP['population']>median_pop"
   ]
  },
  {
   "cell_type": "code",
   "execution_count": 15,
   "id": "b28eb25f",
   "metadata": {
    "execution": {
     "iopub.execute_input": "2022-05-22T21:55:55.176473Z",
     "iopub.status.busy": "2022-05-22T21:55:55.174045Z",
     "iopub.status.idle": "2022-05-22T21:55:55.207659Z",
     "shell.execute_reply": "2022-05-22T21:55:55.208382Z",
     "shell.execute_reply.started": "2022-05-22T21:04:40.028545Z"
    },
    "papermill": {
     "duration": 0.088624,
     "end_time": "2022-05-22T21:55:55.208569",
     "exception": false,
     "start_time": "2022-05-22T21:55:55.119945",
     "status": "completed"
    },
    "tags": []
   },
   "outputs": [
    {
     "data": {
      "text/html": [
       "<div>\n",
       "<style scoped>\n",
       "    .dataframe tbody tr th:only-of-type {\n",
       "        vertical-align: middle;\n",
       "    }\n",
       "\n",
       "    .dataframe tbody tr th {\n",
       "        vertical-align: top;\n",
       "    }\n",
       "\n",
       "    .dataframe thead th {\n",
       "        text-align: right;\n",
       "    }\n",
       "</style>\n",
       "<table border=\"1\" class=\"dataframe\">\n",
       "  <thead>\n",
       "    <tr style=\"text-align: right;\">\n",
       "      <th></th>\n",
       "      <th>year</th>\n",
       "      <th>avg_temp</th>\n",
       "      <th>avg_precip</th>\n",
       "      <th>agricultural</th>\n",
       "      <th>growth</th>\n",
       "      <th>gdp</th>\n",
       "      <th>population</th>\n",
       "      <th>year_median_gdp</th>\n",
       "      <th>year_median_temp</th>\n",
       "    </tr>\n",
       "  </thead>\n",
       "  <tbody>\n",
       "    <tr>\n",
       "      <th>count</th>\n",
       "      <td>4719.000000</td>\n",
       "      <td>4719.000000</td>\n",
       "      <td>4719.000000</td>\n",
       "      <td>4060.000000</td>\n",
       "      <td>4334.000000</td>\n",
       "      <td>4.196000e+03</td>\n",
       "      <td>4.713000e+03</td>\n",
       "      <td>4.719000e+03</td>\n",
       "      <td>4719.000000</td>\n",
       "    </tr>\n",
       "    <tr>\n",
       "      <th>mean</th>\n",
       "      <td>2004.611146</td>\n",
       "      <td>20.029650</td>\n",
       "      <td>7.200171</td>\n",
       "      <td>13.264584</td>\n",
       "      <td>3.719830</td>\n",
       "      <td>4.395716e+11</td>\n",
       "      <td>3.297886e+07</td>\n",
       "      <td>4.963723e+10</td>\n",
       "      <td>22.622467</td>\n",
       "    </tr>\n",
       "    <tr>\n",
       "      <th>std</th>\n",
       "      <td>7.494317</td>\n",
       "      <td>7.767268</td>\n",
       "      <td>10.033396</td>\n",
       "      <td>12.738584</td>\n",
       "      <td>6.270081</td>\n",
       "      <td>1.530605e+12</td>\n",
       "      <td>1.311404e+08</td>\n",
       "      <td>1.443549e+10</td>\n",
       "      <td>0.528670</td>\n",
       "    </tr>\n",
       "    <tr>\n",
       "      <th>min</th>\n",
       "      <td>1992.000000</td>\n",
       "      <td>-8.983333</td>\n",
       "      <td>0.000000</td>\n",
       "      <td>0.026471</td>\n",
       "      <td>-62.075920</td>\n",
       "      <td>2.256761e+07</td>\n",
       "      <td>9.109000e+03</td>\n",
       "      <td>3.128328e+10</td>\n",
       "      <td>21.710681</td>\n",
       "    </tr>\n",
       "    <tr>\n",
       "      <th>25%</th>\n",
       "      <td>1998.000000</td>\n",
       "      <td>13.492492</td>\n",
       "      <td>0.764517</td>\n",
       "      <td>2.985655</td>\n",
       "      <td>1.584723</td>\n",
       "      <td>1.204349e+10</td>\n",
       "      <td>1.152309e+06</td>\n",
       "      <td>3.685132e+10</td>\n",
       "      <td>22.296407</td>\n",
       "    </tr>\n",
       "    <tr>\n",
       "      <th>50%</th>\n",
       "      <td>2005.000000</td>\n",
       "      <td>22.548929</td>\n",
       "      <td>3.399862</td>\n",
       "      <td>8.694559</td>\n",
       "      <td>3.753243</td>\n",
       "      <td>4.790246e+10</td>\n",
       "      <td>6.192560e+06</td>\n",
       "      <td>4.683447e+10</td>\n",
       "      <td>22.523727</td>\n",
       "    </tr>\n",
       "    <tr>\n",
       "      <th>75%</th>\n",
       "      <td>2011.000000</td>\n",
       "      <td>26.559498</td>\n",
       "      <td>9.078224</td>\n",
       "      <td>20.598560</td>\n",
       "      <td>6.013680</td>\n",
       "      <td>2.635919e+11</td>\n",
       "      <td>1.990898e+07</td>\n",
       "      <td>5.642369e+10</td>\n",
       "      <td>22.864531</td>\n",
       "    </tr>\n",
       "    <tr>\n",
       "      <th>max</th>\n",
       "      <td>2017.000000</td>\n",
       "      <td>42.000000</td>\n",
       "      <td>99.990000</td>\n",
       "      <td>66.032729</td>\n",
       "      <td>149.972963</td>\n",
       "      <td>2.122392e+13</td>\n",
       "      <td>1.386395e+09</td>\n",
       "      <td>8.056325e+10</td>\n",
       "      <td>23.830523</td>\n",
       "    </tr>\n",
       "  </tbody>\n",
       "</table>\n",
       "</div>"
      ],
      "text/plain": [
       "              year     avg_temp   avg_precip  agricultural       growth  \\\n",
       "count  4719.000000  4719.000000  4719.000000   4060.000000  4334.000000   \n",
       "mean   2004.611146    20.029650     7.200171     13.264584     3.719830   \n",
       "std       7.494317     7.767268    10.033396     12.738584     6.270081   \n",
       "min    1992.000000    -8.983333     0.000000      0.026471   -62.075920   \n",
       "25%    1998.000000    13.492492     0.764517      2.985655     1.584723   \n",
       "50%    2005.000000    22.548929     3.399862      8.694559     3.753243   \n",
       "75%    2011.000000    26.559498     9.078224     20.598560     6.013680   \n",
       "max    2017.000000    42.000000    99.990000     66.032729   149.972963   \n",
       "\n",
       "                gdp    population  year_median_gdp  year_median_temp  \n",
       "count  4.196000e+03  4.713000e+03     4.719000e+03       4719.000000  \n",
       "mean   4.395716e+11  3.297886e+07     4.963723e+10         22.622467  \n",
       "std    1.530605e+12  1.311404e+08     1.443549e+10          0.528670  \n",
       "min    2.256761e+07  9.109000e+03     3.128328e+10         21.710681  \n",
       "25%    1.204349e+10  1.152309e+06     3.685132e+10         22.296407  \n",
       "50%    4.790246e+10  6.192560e+06     4.683447e+10         22.523727  \n",
       "75%    2.635919e+11  1.990898e+07     5.642369e+10         22.864531  \n",
       "max    2.122392e+13  1.386395e+09     8.056325e+10         23.830523  "
      ]
     },
     "execution_count": 15,
     "metadata": {},
     "output_type": "execute_result"
    }
   ],
   "source": [
    "# Examining the number of countries around at the time\n",
    "weather_GDP.describe()"
   ]
  },
  {
   "cell_type": "markdown",
   "id": "8517023e",
   "metadata": {
    "papermill": {
     "duration": 0.052354,
     "end_time": "2022-05-22T21:55:55.312503",
     "exception": false,
     "start_time": "2022-05-22T21:55:55.260149",
     "status": "completed"
    },
    "tags": []
   },
   "source": [
    "#### Output data"
   ]
  },
  {
   "cell_type": "code",
   "execution_count": 16,
   "id": "eb4d8c68",
   "metadata": {
    "execution": {
     "iopub.execute_input": "2022-05-22T21:55:55.412349Z",
     "iopub.status.busy": "2022-05-22T21:55:55.410248Z",
     "iopub.status.idle": "2022-05-22T21:55:55.504266Z",
     "shell.execute_reply": "2022-05-22T21:55:55.504758Z",
     "shell.execute_reply.started": "2022-05-22T21:08:09.862289Z"
    },
    "papermill": {
     "duration": 0.144032,
     "end_time": "2022-05-22T21:55:55.504963",
     "exception": false,
     "start_time": "2022-05-22T21:55:55.360931",
     "status": "completed"
    },
    "tags": []
   },
   "outputs": [
    {
     "data": {
      "text/plain": [
       "'../working/weather_GDP.csv'"
      ]
     },
     "execution_count": 16,
     "metadata": {},
     "output_type": "execute_result"
    }
   ],
   "source": [
    "weather_GDP.to_csv('../weather_GDP.csv',index=True) # \n",
    "shutil.copy(\"../weather_GDP.csv\", \"../working/weather_GDP.csv\") "
   ]
  }
 ],
 "metadata": {
  "kernelspec": {
   "display_name": "Python 3",
   "language": "python",
   "name": "python3"
  },
  "language_info": {
   "codemirror_mode": {
    "name": "ipython",
    "version": 3
   },
   "file_extension": ".py",
   "mimetype": "text/x-python",
   "name": "python",
   "nbconvert_exporter": "python",
   "pygments_lexer": "ipython3",
   "version": "3.7.12"
  },
  "papermill": {
   "default_parameters": {},
   "duration": 297.681877,
   "end_time": "2022-05-22T21:55:56.464760",
   "environment_variables": {},
   "exception": null,
   "input_path": "__notebook__.ipynb",
   "output_path": "__notebook__.ipynb",
   "parameters": {},
   "start_time": "2022-05-22T21:50:58.782883",
   "version": "2.3.3"
  }
 },
 "nbformat": 4,
 "nbformat_minor": 5
}
